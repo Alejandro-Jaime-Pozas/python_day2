{
 "cells": [
  {
   "cell_type": "code",
   "execution_count": 25,
   "metadata": {},
   "outputs": [
    {
     "name": "stdout",
     "output_type": "stream",
     "text": [
      "[2, 3, 5, 7, 11, 13, 17, 19]\n",
      "0 2\n",
      "1 3\n",
      "2 5\n",
      "3 7\n",
      "4 11\n",
      "5 13\n",
      "6 17\n",
      "7 19\n"
     ]
    }
   ],
   "source": [
    "# twin primes\n",
    "# need to create a list of prime numbers first to then get twin primes\n",
    "# twin primes need to check if primes[n+1] - primes[n] == 2. \n",
    "\n",
    "#### LEAVE THIS FOR LATER. >>> also count a non-twin prime if it has\n",
    "#### twin primes as its wings\n",
    "\n",
    "# ...37, (41, 43), 47, (51, 53)...\n",
    "\n",
    "n = 20\n",
    "\n",
    "primes = []\n",
    "\n",
    "for num in range(2, n):\n",
    "    for div in range(2, num):\n",
    "        if num % div == 0:\n",
    "            break\n",
    "    else:\n",
    "        primes.append(num)\n",
    "        \n",
    "print(primes)\n",
    "\n",
    "\n",
    "# to get twin primes:\n",
    "# check number before if -2 then True, check number after if -2 then True\n",
    "# if number before is -2, then create twin prime\n",
    "\n",
    "#### IGNORE NUMBER AFTER RIGHT NOW, FOCUS JUST NUMBER BEFORE\n",
    "primes_tuples = list(enumerate(primes))\n",
    "\n",
    "for num in range(len(primes)):\n",
    "    print(num, primes[num])\n",
    "    if primes[num]"
   ]
  }
 ],
 "metadata": {
  "kernelspec": {
   "display_name": "Python 3",
   "language": "python",
   "name": "python3"
  },
  "language_info": {
   "codemirror_mode": {
    "name": "ipython",
    "version": 3
   },
   "file_extension": ".py",
   "mimetype": "text/x-python",
   "name": "python",
   "nbconvert_exporter": "python",
   "pygments_lexer": "ipython3",
   "version": "3.8.3"
  }
 },
 "nbformat": 4,
 "nbformat_minor": 4
}
